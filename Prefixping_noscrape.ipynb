{
 "cells": [
  {
   "cell_type": "code",
   "execution_count": 1,
   "metadata": {
    "collapsed": true
   },
   "outputs": [],
   "source": [
    "import time\n",
    "import re\n",
    "import requests\n",
    "import yaml\n",
    "import os.path\n",
    "from datetime import datetime"
   ]
  },
  {
   "cell_type": "code",
   "execution_count": 2,
   "metadata": {},
   "outputs": [
    {
     "name": "stdout",
     "output_type": "stream",
     "text": [
      "checked 7 remote sites for BUNNYFOOFOO in 5.05529260635376\n"
     ]
    }
   ],
   "source": [
    "prefix='BUNNYFOOFOO'\n",
    "\n",
    "if os.path.isfile('registry_url.yaml'):\n",
    "        with open('registry_url.yaml', 'r') as fh:\n",
    "            regurl = yaml.load(fh)\n",
    "else:\n",
    "    print(\"halp. halp. I've fallen and can't get up\")\n",
    "\n",
    "then = time.time()    \n",
    "for reg in regurl:\n",
    "    response = requests.head(reg + prefix)\n",
    "    if response.status_code == requests.codes.ok:\n",
    "        print(prefix + ' found in ' + response.url)\n",
    "        break\n",
    "interval = time.time() - then\n",
    "print('checked ' + str(len(regurl)) + ' remote sites for ' + prefix + ' in ' + str(interval)) "
   ]
  },
  {
   "cell_type": "markdown",
   "metadata": {},
   "source": [
    "Quick and dirty explore alternatives to screen scraping\n",
    "for prefixping service. \n",
    "\n",
    "basicly instead of scraping the search results page  \n",
    "find the yaml file used to generate the page \n",
    "\n",
    "for the GO registery the file is: \n",
    "[db-xrefs.yaml](http://current.geneontology.org/metadata/db-xrefs.yaml)\n",
    "for the n3t/identifiers registery the file is:  \n",
    "[cdl_ebi_prefixes.yaml](https://n2t.net/e/cdl_ebi_prefixes.yaml)"
   ]
  },
  {
   "cell_type": "code",
   "execution_count": 3,
   "metadata": {
    "collapsed": true
   },
   "outputs": [],
   "source": [
    "gocurl = 'http://current.geneontology.org/metadata/db-xrefs.yaml'\n",
    "gocfile = 'db-xrefs.yaml'\n",
    "gocprefixfile = 'gocprefix.yaml'"
   ]
  },
  {
   "cell_type": "markdown",
   "metadata": {},
   "source": [
    "then = time.time()\n",
    "response = requests.head(gocurl)\n",
    "time.time() - then"
   ]
  },
  {
   "cell_type": "markdown",
   "metadata": {},
   "source": [
    "then = time.time()\n",
    "response = requests.get(gocurl)\n",
    "time.time() - then"
   ]
  },
  {
   "cell_type": "markdown",
   "metadata": {},
   "source": [
    "`head` is faster than `get` for finding `last_modified`   \n",
    "but not enough to worry about right now"
   ]
  },
  {
   "cell_type": "code",
   "execution_count": 4,
   "metadata": {},
   "outputs": [
    {
     "name": "stdout",
     "output_type": "stream",
     "text": [
      "False\n",
      "checked 313 prefixes from GO for BUNNYFOOFOO in 0.907667875289917\n"
     ]
    }
   ],
   "source": [
    "then = time.time() \n",
    "gocprefix = []\n",
    "response = requests.get(gocurl)\n",
    "if response.status_code == requests.codes.ok:\n",
    "    gocxref = yaml.load(response.text)\n",
    "    remote_last_modified = response.headers['Last-Modified'] \n",
    "    # Tue, 01 Aug 2017 14:14:26 GMT   note see http://strftime.org/\n",
    "    fmt = '%a, %d %b %Y %H:%M:%S GMT'\n",
    "    remote_datetime = datetime.strptime(remote_last_modified, fmt)\n",
    "    gocprefix.append('# ' + str(remote_datetime))\n",
    "    for db in gocxref:\n",
    "         gocprefix.append(db['database'])\n",
    "else: \n",
    "    print('ERROR ' + response.url + ' returned '+ str(response.status_code))\n",
    "    print('Trying local cache')\n",
    "    remote_datetime = None\n",
    "    if os.path.isfile(gocprefixfile):\n",
    "        with open(gocprefixfile, 'r') as fh:\n",
    "            gocprefix = yaml.load(fh)\n",
    "        local_datetime = gocprefix[1]\n",
    "        print('Found local cache from: ',local_datestamp)\n",
    "    else:\n",
    "        print('Error no local cache of '+ gocprefixfile + ' available')\n",
    "        local_datetime = None\n",
    "        \n",
    "print(prefix in gocprefix) \n",
    "interval = time.time() - then\n",
    "print('checked ' + str(len(gocprefix)) + ' prefixes from GO for ' + prefix + ' in ' + str(interval))"
   ]
  },
  {
   "cell_type": "code",
   "execution_count": 5,
   "metadata": {},
   "outputs": [
    {
     "data": {
      "text/plain": [
       "True"
      ]
     },
     "execution_count": 5,
     "metadata": {},
     "output_type": "execute_result"
    }
   ],
   "source": [
    "\"GO\" in gocprefix"
   ]
  },
  {
   "cell_type": "code",
   "execution_count": 6,
   "metadata": {
    "collapsed": true
   },
   "outputs": [],
   "source": [
    "for p in gocprefix:\n",
    "    if re.match(r'.*/.*', p):\n",
    "        print(p)"
   ]
  },
  {
   "cell_type": "markdown",
   "metadata": {},
   "source": [
    "shows these GOC prefixes are __not__ composed  \n",
    "of namespaces preceded \n",
    "by an optional \"provider code\" then slash"
   ]
  },
  {
   "cell_type": "markdown",
   "metadata": {},
   "source": [
    "___\n",
    "\n",
    "## CDL/EBI"
   ]
  },
  {
   "cell_type": "code",
   "execution_count": 7,
   "metadata": {
    "collapsed": true
   },
   "outputs": [],
   "source": [
    "cdlebi_url = 'https://n2t.net/e/cdl_ebi_prefixes.yaml'\n",
    "response = requests.get(cdlebi_url)"
   ]
  },
  {
   "cell_type": "code",
   "execution_count": 8,
   "metadata": {},
   "outputs": [
    {
     "name": "stdout",
     "output_type": "stream",
     "text": [
      "# Last modified: 2017.08.01_08.28.20\n"
     ]
    }
   ],
   "source": [
    "first_line = response.text[0:response.text.index('\\n')]\n",
    "print(first_line)\n",
    "# Last modified: 2017.08.01_08.28.20\n",
    "fmt = '# Last modified: %Y.%m.%d_%H.%M.%S'\n",
    "cdlebi_file = 'cdl_ebi_prefixes.yaml'\n",
    "cdlebipfx = []"
   ]
  },
  {
   "cell_type": "code",
   "execution_count": 9,
   "metadata": {},
   "outputs": [
    {
     "name": "stdout",
     "output_type": "stream",
     "text": [
      "False\n",
      "checked 662 prefixes from CDL/EBI for BUNNYFOOFOO in 0.4575526714324951\n"
     ]
    }
   ],
   "source": [
    "then = time.time()\n",
    "if response.status_code == requests.codes.ok:\n",
    "    cdlebiraw = response.text\n",
    "    cdlebireg = yaml.load(cdlebiraw)\n",
    "    first_line = cdlebiraw[0:cdlebiraw.index('\\n')]\n",
    "    remote_datetime = datetime.strptime(first_line, fmt) \n",
    "else: \n",
    "    print('ERROR ' + response.url + ' returned '+ str(response.status_code))\n",
    "    print('Trying local cache')\n",
    "    remote_datetime = None\n",
    "    if os.path.isfile(cdlebi_file):\n",
    "        with open(cdlebi_file, 'r') as fh:\n",
    "            cdlebireg = yaml.load(fh)\n",
    "            # local_datetime = cdlebireg ... not there would to read need the raw file\n",
    "            # print('Found local cache from: ',local_datestamp)\n",
    "    else:\n",
    "        print('Error no local cache of '+ cdlebi_file + ' available')\n",
    "        local_datetime = None\n",
    "\n",
    "for reg in cdlebireg:\n",
    "    cdlebipfx.append(reg['namespace'])\n",
    "    if 'alias' in reg:\n",
    "        cdlebipfx.append(reg['alias'])\n",
    "        \n",
    "print(prefix in cdlebipfx)\n",
    "interval = time.time() - then\n",
    "print('checked ' + str(len(cdlebipfx)) + ' prefixes from CDL/EBI for ' + prefix + ' in ' + str(interval))"
   ]
  },
  {
   "cell_type": "markdown",
   "metadata": {},
   "source": [
    "\n",
    "a second or less for both of  the yaml fetch checks   \n",
    "(much less on average if we keep the lists in server memory and only fetch to update periodicaly/when changed)  \n",
    "\n",
    "several to ~10 seconds to ping the remote servers if a hit is not found yet\n"
   ]
  },
  {
   "cell_type": "code",
   "execution_count": 10,
   "metadata": {},
   "outputs": [
    {
     "data": {
      "text/plain": [
       "652"
      ]
     },
     "execution_count": 10,
     "metadata": {},
     "output_type": "execute_result"
    }
   ],
   "source": [
    "len(cdlebireg)"
   ]
  }
 ],
 "metadata": {
  "kernelspec": {
   "display_name": "Python 3",
   "language": "python",
   "name": "python3"
  },
  "language_info": {
   "codemirror_mode": {
    "name": "ipython",
    "version": 3
   },
   "file_extension": ".py",
   "mimetype": "text/x-python",
   "name": "python",
   "nbconvert_exporter": "python",
   "pygments_lexer": "ipython3",
   "version": "3.5.2"
  }
 },
 "nbformat": 4,
 "nbformat_minor": 2
}
