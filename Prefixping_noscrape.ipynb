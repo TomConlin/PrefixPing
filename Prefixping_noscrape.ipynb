{
 "cells": [
  {
   "cell_type": "markdown",
   "metadata": {},
   "source": [
    "Quick and dirty explore alternatives to screen scraping\n",
    "for prefixping service. \n",
    "\n",
    "basicly instead of scraping the search results page  \n",
    "find the yaml file used to generate the page \n",
    "\n",
    "for the GO registery the file is: \n",
    "\n",
    "[db-xrefs.yaml](http://current.geneontology.org/metadata/db-xrefs.yaml)\n",
    "\n",
    "for the n3t/identifiers registery the file is:  \n",
    "\n",
    "[cdl_ebi_prefixes.yaml](https://n2t.net/e/cdl_ebi_prefixes.yaml)\n"
   ]
  },
  {
   "cell_type": "code",
   "execution_count": 20,
   "metadata": {},
   "outputs": [],
   "source": [
    "import time\n",
    "import re\n",
    "import requests\n",
    "import yaml\n",
    "import os.path\n",
    "from datetime import datetime"
   ]
  },
  {
   "cell_type": "code",
   "execution_count": 2,
   "metadata": {},
   "outputs": [],
   "source": [
    "gocurl = 'http://current.geneontology.org/metadata/db-xrefs.yaml'\n",
    "gocfile = 'db-xrefs.yaml'\n",
    "gocprefixfile = 'gocprefix.yaml'"
   ]
  },
  {
   "cell_type": "markdown",
   "metadata": {},
   "source": [
    "then = time.time()\n",
    "response = requests.head(gocurl)\n",
    "time.time() - then"
   ]
  },
  {
   "cell_type": "markdown",
   "metadata": {},
   "source": [
    "then = time.time()\n",
    "response = requests.get(gocurl)\n",
    "time.time() - then"
   ]
  },
  {
   "cell_type": "markdown",
   "metadata": {},
   "source": [
    "`head` is faster than `get` for finding `last_modified`   \n",
    "but not enough to worry about right now"
   ]
  },
  {
   "cell_type": "code",
   "execution_count": 11,
   "metadata": {},
   "outputs": [],
   "source": [
    "gocprefix = []\n",
    "response = requests.get(gocurl)\n",
    "if response.status_code == requests.codes.ok:\n",
    "    gocxref = yaml.load(response.text)\n",
    "    remote_last_modified = response.headers['Last-Modified'] \n",
    "    # Tue, 01 Aug 2017 14:14:26 GMT   note see http://strftime.org/\n",
    "    fmt = '%a, %d %b %Y %H:%M:%S GMT'\n",
    "    remote_datetime = datetime.strptime(remote_last_modified, fmt)\n",
    "    gocprefix.append('# ' + str(remote_datetime))\n",
    "    for db in gocxref:\n",
    "         gocprefix.append(db['database'])\n",
    "else: \n",
    "    print('ERROR ' + response.url + ' returned '+ str(response.status_code))\n",
    "    print('Trying local cache')\n",
    "    remote_datetime = None\n",
    "    if os.path.isfile(gocprefixfile):\n",
    "        with open(gocprefixfile, 'r') as fh:\n",
    "            gocprefix = yaml.load(fh)\n",
    "        local_datetime = gocprefix[1]\n",
    "        print('Found local cache from: ',local_datestamp)\n",
    "    else:\n",
    "        print('Error no local cache of '+ gocprefixfile + ' available')\n",
    "        local_datetime = None"
   ]
  },
  {
   "cell_type": "code",
   "execution_count": 13,
   "metadata": {},
   "outputs": [
    {
     "data": {
      "text/plain": [
       "313"
      ]
     },
     "execution_count": 13,
     "metadata": {},
     "output_type": "execute_result"
    }
   ],
   "source": [
    "len(gocprefix)"
   ]
  },
  {
   "cell_type": "code",
   "execution_count": 15,
   "metadata": {},
   "outputs": [
    {
     "data": {
      "text/plain": [
       "False"
      ]
     },
     "execution_count": 15,
     "metadata": {},
     "output_type": "execute_result"
    }
   ],
   "source": [
    "\"BUNNYFOOFOO\" in gocprefix"
   ]
  },
  {
   "cell_type": "code",
   "execution_count": 16,
   "metadata": {},
   "outputs": [
    {
     "data": {
      "text/plain": [
       "True"
      ]
     },
     "execution_count": 16,
     "metadata": {},
     "output_type": "execute_result"
    }
   ],
   "source": [
    "\"GO\" in gocprefix"
   ]
  },
  {
   "cell_type": "code",
   "execution_count": 22,
   "metadata": {},
   "outputs": [],
   "source": [
    "for p in gocprefix:\n",
    "    if re.match(r'.*/.*', p):\n",
    "        print(p)"
   ]
  },
  {
   "cell_type": "markdown",
   "metadata": {},
   "source": [
    "shows these GOC prefixes are __not__ composed  \n",
    "of namespaces poroceded \n",
    "by an optional \" provider code\"  then slash"
   ]
  },
  {
   "cell_type": "markdown",
   "metadata": {},
   "source": [
    "___\n",
    "\n",
    "## CDL/EBI"
   ]
  },
  {
   "cell_type": "code",
   "execution_count": null,
   "metadata": {
    "collapsed": true
   },
   "outputs": [],
   "source": [
    "https://n2t.net/e/cdl_ebi_prefixes.yaml"
   ]
  }
 ],
 "metadata": {
  "kernelspec": {
   "display_name": "Python 3",
   "language": "python",
   "name": "python3"
  },
  "language_info": {
   "codemirror_mode": {
    "name": "ipython",
    "version": 3
   },
   "file_extension": ".py",
   "mimetype": "text/x-python",
   "name": "python",
   "nbconvert_exporter": "python",
   "pygments_lexer": "ipython3",
   "version": "3.5.2"
  }
 },
 "nbformat": 4,
 "nbformat_minor": 2
}
